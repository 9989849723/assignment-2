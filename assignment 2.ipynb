{
 "cells": [
  {
   "cell_type": "markdown",
   "id": "395fcfec",
   "metadata": {},
   "source": [
    "# 1.write a python progran to accept two numbers from the user and calculate multiplication and division\n"
   ]
  },
  {
   "cell_type": "code",
   "execution_count": 5,
   "id": "a0771b70",
   "metadata": {},
   "outputs": [
    {
     "name": "stdout",
     "output_type": "stream",
     "text": [
      "type 1st number:5\n",
      "type 2nd number:10\n",
      "50\n",
      "0.5\n"
     ]
    }
   ],
   "source": [
    "a=int(input(\"type 1st number:\"))\n",
    "b=int(input(\"type 2nd number:\"))\n",
    "print(a*b)\n",
    "print(a/b)"
   ]
  },
  {
   "cell_type": "markdown",
   "id": "31932e56",
   "metadata": {},
   "source": [
    "# 2.write a python program to print the characters from a string that are present at an even index"
   ]
  },
  {
   "cell_type": "code",
   "execution_count": 1,
   "id": "9ea6e575",
   "metadata": {},
   "outputs": [
    {
     "name": "stdout",
     "output_type": "stream",
     "text": [
      "the given characters:abcdefghijklmnopqrstuvwxyz\n"
     ]
    },
    {
     "data": {
      "text/plain": [
       "'acegikmoqsuwy'"
      ]
     },
     "execution_count": 1,
     "metadata": {},
     "output_type": "execute_result"
    }
   ],
   "source": [
    "x=input(\"the given characters:\")\n",
    "x[::2]"
   ]
  },
  {
   "cell_type": "markdown",
   "id": "9dac72bc",
   "metadata": {},
   "source": [
    "# 3.write a python program to print the characters from a string that are present at an odd index"
   ]
  },
  {
   "cell_type": "code",
   "execution_count": 2,
   "id": "2745d45f",
   "metadata": {},
   "outputs": [
    {
     "name": "stdout",
     "output_type": "stream",
     "text": [
      "the given numbers:abcdefghijklmnopqrstuvwxyz\n"
     ]
    },
    {
     "data": {
      "text/plain": [
       "'bdfhjlnprtvxz'"
      ]
     },
     "execution_count": 2,
     "metadata": {},
     "output_type": "execute_result"
    }
   ],
   "source": [
    "a=input(\"the given numbers:\")\n",
    "a[1::2]"
   ]
  },
  {
   "cell_type": "markdown",
   "id": "80aed93a",
   "metadata": {},
   "source": [
    "# 4.write a python program to which will print the sum of two numbers if the two numbers are even or it will print the difference of two numbers"
   ]
  },
  {
   "cell_type": "code",
   "execution_count": 3,
   "id": "27d95fa5",
   "metadata": {},
   "outputs": [
    {
     "name": "stdout",
     "output_type": "stream",
     "text": [
      "enter the number1 :10\n",
      "enter the number2 :15\n",
      "difference of two numbers is : -5\n"
     ]
    }
   ],
   "source": [
    "a=int(input(\"enter the number1 :\"))\n",
    "b=int(input(\"enter the number2 :\"))\n",
    "if a%2==0 and b%2==0:\n",
    "    print(\"sum of two numbers is :\",a+b)\n",
    "else:\n",
    "    print(\"difference of two numbers is :\",a-b)"
   ]
  },
  {
   "cell_type": "markdown",
   "id": "6ef21cdb",
   "metadata": {},
   "source": [
    "# 5.write a python program to convert all even indexed alphabets to upper and odd indexed char"
   ]
  },
  {
   "cell_type": "code",
   "execution_count": 6,
   "id": "e0abcc28",
   "metadata": {},
   "outputs": [
    {
     "name": "stdout",
     "output_type": "stream",
     "text": [
      "enter the sequence of charactersManoj\n",
      "MaNoJ\n"
     ]
    }
   ],
   "source": [
    "x=input(\"enter the sequence of characters\")\n",
    "y=\"\"\n",
    "for i in range(0,len(x)):\n",
    "    if i%2==0:\n",
    "        y=y+x[i].upper()\n",
    "    else:\n",
    "        y=y+x[i].lower()\n",
    "print(y)"
   ]
  },
  {
   "cell_type": "markdown",
   "id": "3a031a92",
   "metadata": {},
   "source": [
    "# 6.write a python program which will print true if the input number is divisible by 5 or else false"
   ]
  },
  {
   "cell_type": "code",
   "execution_count": 7,
   "id": "97be0e0f",
   "metadata": {},
   "outputs": [
    {
     "name": "stdout",
     "output_type": "stream",
     "text": [
      "enter a number to check :20\n",
      "True\n"
     ]
    }
   ],
   "source": [
    "x=int(input(\"enter a number to check :\"))\n",
    "if x%5==0:\n",
    "    print(\"True\")\n",
    "else:\n",
    "    print(\"False\")"
   ]
  },
  {
   "cell_type": "markdown",
   "id": "10fb9b09",
   "metadata": {},
   "source": [
    "# 7. given two integer numbers return their product only if the product is greater than 1000,else return their sum"
   ]
  },
  {
   "cell_type": "code",
   "execution_count": 8,
   "id": "275b9d94",
   "metadata": {},
   "outputs": [
    {
     "name": "stdout",
     "output_type": "stream",
     "text": [
      "enter the number1:200\n",
      "enter the number2:460\n",
      "92000\n"
     ]
    }
   ],
   "source": [
    "a=int(input(\"enter the number1:\"))\n",
    "b=int(input(\"enter the number2:\"))\n",
    "c=a*b\n",
    "if c>1000:\n",
    "    print(c)\n",
    "else:\n",
    "    print(a+b)"
   ]
  },
  {
   "cell_type": "markdown",
   "id": "af1f4c7c",
   "metadata": {},
   "source": [
    "# 8.given two strings x,y writes a program to return a new string mode of x and y's first,middle,and last characters\n",
    "# example:\n",
    "# input\n",
    "# x= \" pytho\"\n",
    "# y=\" javas\"\n",
    "# output\n",
    "# \"pjtvos\""
   ]
  },
  {
   "cell_type": "code",
   "execution_count": 1,
   "id": "f8eefebf",
   "metadata": {},
   "outputs": [
    {
     "name": "stdout",
     "output_type": "stream",
     "text": [
      "enter the number1 :pytho\n",
      "enter the number2 :javas\n",
      "pjtvos\n"
     ]
    }
   ],
   "source": [
    "a=input(\"enter the number1 :\")\n",
    "b=input(\"enter the number2 :\")\n",
    "c=int(len(a)/2)\n",
    "d=int(len(b)/2)\n",
    "print(a[0]+b[0]+a[c]+b[d]+a[-1]+b[-1])"
   ]
  },
  {
   "cell_type": "markdown",
   "id": "2074566f",
   "metadata": {},
   "source": [
    "# 9.write a python program to take three names as input from the user in the single input () function call\n",
    "# Example:\n",
    "# input :\n",
    "# enter three names:-\"person1 person2 person3\"\n",
    "# output:\n",
    "# name1:-\"person1\"\n",
    "# name2:-\"person2\"\n",
    "# name3:-\"person3\"\n"
   ]
  },
  {
   "cell_type": "code",
   "execution_count": 2,
   "id": "1064d87d",
   "metadata": {},
   "outputs": [
    {
     "name": "stdout",
     "output_type": "stream",
     "text": [
      "enter the names :manoj muthineni raja\n",
      "name1 : manoj\n",
      "name2 : muthineni\n",
      "name3 : raja\n"
     ]
    }
   ],
   "source": [
    "a=input(\"enter the names :\")\n",
    "b=a.split()\n",
    "for i in b:\n",
    "    print(\"name1 :\",b[0])\n",
    "    print(\"name2 :\",b[1])\n",
    "    print(\"name3 :\",b[2])\n",
    "    break;"
   ]
  },
  {
   "cell_type": "markdown",
   "id": "7f251852",
   "metadata": {},
   "source": [
    "# 10.write a python program to get a string from a given string where all occurences of its first char have been changed to '@', except the first char itself"
   ]
  },
  {
   "cell_type": "code",
   "execution_count": 4,
   "id": "3ac0e376",
   "metadata": {},
   "outputs": [
    {
     "name": "stdout",
     "output_type": "stream",
     "text": [
      "Type a string :malayalam\n",
      "malayala@\n"
     ]
    }
   ],
   "source": [
    "s=input(\"Type a string :\")\n",
    "char = s[0]\n",
    "for i in s:\n",
    "    s=s.replace(s[0],'@')\n",
    "    s=char+s[1:]\n",
    "print(s)"
   ]
  },
  {
   "cell_type": "markdown",
   "id": "d58f99c7",
   "metadata": {},
   "source": [
    "# Write a Python program to add 'ing' at the end of a given string (string length should be equal to or more than 3). \n",
    "# If the given string already ends with 'ing' then add 'ly' instead. If the string length of the given string is less than 3,\n",
    "# leave it unchanged\n",
    "# Example:\n",
    "# Input:\n",
    "# 'sing’\n",
    "# Output:\n",
    "#singing\n",
    "# Input:\n",
    "# ' playing'\n",
    "# Output:\n",
    "# ‘playly’\n",
    "# Input:\n",
    "# ' on'\n",
    "# Output:\n",
    "# ‘on’"
   ]
  },
  {
   "cell_type": "code",
   "execution_count": 5,
   "id": "d2ff7b36",
   "metadata": {},
   "outputs": [
    {
     "name": "stdout",
     "output_type": "stream",
     "text": [
      "Enter any string reading\n",
      "readly\n"
     ]
    }
   ],
   "source": [
    "var3= input(\"Enter any string \")\n",
    "var4=[]\n",
    "if len(var3)>=3 and var3.endswith(\"ing\"):\n",
    "    var4=var3.replace(\"ing\",\"ly\")\n",
    "    print(var4)\n",
    "elif len(var3)>=3:\n",
    "    var3=var4.append(var3+\"ing\")\n",
    "    print(var4)\n",
    "elif len(var3)<3:\n",
    "    var4.append(var3)\n",
    "    print(var4)"
   ]
  },
  {
   "cell_type": "markdown",
   "id": "cb9c3268",
   "metadata": {},
   "source": [
    "# 12 Write a python program that accepts two inputs num1 and num2 print True if one of them is 10 or if their sum is 10 otherwise print False"
   ]
  },
  {
   "cell_type": "code",
   "execution_count": 7,
   "id": "1536ceff",
   "metadata": {},
   "outputs": [
    {
     "name": "stdout",
     "output_type": "stream",
     "text": [
      "enter a number44\n",
      "enter another number6\n",
      "False\n"
     ]
    }
   ],
   "source": [
    "num1= int(input(\"enter a number\"))\n",
    "num2= int(input(\"enter another number\"))\n",
    "if num1==10 or num2==10:\n",
    "    print(\"True\")\n",
    "elif num1+num2==10:\n",
    "    print(\"True\")\n",
    "else:\n",
    "    print(\"False\")"
   ]
  },
  {
   "cell_type": "markdown",
   "id": "67db7bb6",
   "metadata": {},
   "source": [
    "# 13. Write a python program that accepts three inputs x, y and z print True if x*y>z otherwise False"
   ]
  },
  {
   "cell_type": "code",
   "execution_count": 8,
   "id": "bc8a9970",
   "metadata": {},
   "outputs": [
    {
     "name": "stdout",
     "output_type": "stream",
     "text": [
      "enter first number6\n",
      "enter second number23\n",
      "enter third number8\n",
      "True\n"
     ]
    }
   ],
   "source": [
    "x= int(input(\"enter first number\"))\n",
    "y= int(input(\"enter second number\"))\n",
    "z= int(input(\"enter third number\"))\n",
    "if x*y>z:\n",
    "    print(\"True\")\n",
    "else:\n",
    "    print(\"False\")"
   ]
  },
  {
   "cell_type": "markdown",
   "id": "5f45f07b",
   "metadata": {},
   "source": [
    "# 14.Write a python program that accepts two strings inputs return True depending on whether the total number of characters in the first string is equal to the total number of characters in the second string"
   ]
  },
  {
   "cell_type": "code",
   "execution_count": 9,
   "id": "5c850505",
   "metadata": {},
   "outputs": [
    {
     "name": "stdout",
     "output_type": "stream",
     "text": [
      "enter anything abcdef\n",
      "enter anything efdcba\n",
      "True\n"
     ]
    }
   ],
   "source": [
    "num3= input(\"enter anything \")\n",
    "num4= input(\"enter anything \")\n",
    "if len(num3)==len(num4):\n",
    "    print(\"True\")\n",
    "else:\n",
    "    print(\"False\")"
   ]
  },
  {
   "cell_type": "markdown",
   "id": "0aafec24",
   "metadata": {},
   "source": [
    "# 15.Write a python program that takes a string input, we'll say that the front is the first three characters of the string. If the string length is less than three characters, the front is whatever is there. Return a new string, which is three copies of the fron"
   ]
  },
  {
   "cell_type": "code",
   "execution_count": 10,
   "id": "07ef4c5e",
   "metadata": {},
   "outputs": [
    {
     "name": "stdout",
     "output_type": "stream",
     "text": [
      "enter anything java\n",
      "javjavjav\n"
     ]
    }
   ],
   "source": [
    "str1=input(\"enter anything \")\n",
    "if len(str1)<=3:\n",
    "    print(str1)\n",
    "else:\n",
    "    print(str1[0:3]*3)"
   ]
  },
  {
   "cell_type": "markdown",
   "id": "e16e5209",
   "metadata": {},
   "source": [
    "# 16.Write a python program that takes in a word and determines whether or not it is plural. A plural word is one that ends in \"s\"."
   ]
  },
  {
   "cell_type": "code",
   "execution_count": 11,
   "id": "34e47589",
   "metadata": {},
   "outputs": [
    {
     "name": "stdout",
     "output_type": "stream",
     "text": [
      "enter anything friends\n",
      "The word is Plural\n"
     ]
    }
   ],
   "source": [
    "str2= input(\"enter anything \")\n",
    "if str2.endswith(\"s\"):\n",
    "    print(\"The word is Plural\")\n",
    "else:\n",
    "    print(\"The word is Singular\")"
   ]
  },
  {
   "cell_type": "markdown",
   "id": "0dcd17f6",
   "metadata": {},
   "source": [
    "# 17.A bartender is writing a simple program to determine whether he should serve drinks to someone. He only serves drinks to people 18 and older and when he's not on break (True means break and False means not a break time). Given the person's age, and whether break time is in session, create a python program which prints whether he should serve drinks or not."
   ]
  },
  {
   "cell_type": "code",
   "execution_count": 12,
   "id": "b5bffb6d",
   "metadata": {},
   "outputs": [
    {
     "name": "stdout",
     "output_type": "stream",
     "text": [
      "enter your age 22\n",
      "enter 'break' if its break time or else enter anything: abcdef\n",
      "Here's your Drink!!!\n"
     ]
    }
   ],
   "source": [
    "age= int(input(\"enter your age \"))\n",
    "break_time= input(\"enter 'break' if its break time or else enter anything: \")\n",
    "if age<18:\n",
    "    print(\"You are not eligible!!!\")\n",
    "elif age>=18:\n",
    "    if break_time==\"break\":\n",
    "        print(\"Its my break time come afterwards\")\n",
    "    else:\n",
    "        print(\"Here's your Drink!!!\")"
   ]
  },
  {
   "cell_type": "markdown",
   "id": "2eeef32f",
   "metadata": {},
   "source": [
    "# 18.Manoj Kumar has family and friends. Help him remind them who is who. Given a string with a name, return the relation of that person to Manoj Kumar.\n",
    "Person Relation\n",
    "Shiva father\n",
    "Letha mother\n",
    "Tarun brother"
   ]
  },
  {
   "cell_type": "code",
   "execution_count": 1,
   "id": "78de7a23",
   "metadata": {},
   "outputs": [
    {
     "name": "stdout",
     "output_type": "stream",
     "text": [
      "enter the name shiva\n",
      "Didn't recognize!!!\n"
     ]
    }
   ],
   "source": [
    "name=input(\"enter the name \")\n",
    "if name==\"Shiva\":\n",
    "    print(\"father\")\n",
    "elif name==\"Letha\":\n",
    "    print(\"mother\")\n",
    "elif name==\"Tarun\":\n",
    "    print(\"brother\")\n",
    "else:\n",
    "    print(\"Didn't recognize!!!\")"
   ]
  },
  {
   "cell_type": "markdown",
   "id": "3c0015dd",
   "metadata": {},
   "source": [
    "# 19.Write a python program that takes a string, breaks it up and returns it with vowels first, consonants second. For any character that's not a vowel (like special characters or spaces), treat them like consonants"
   ]
  },
  {
   "cell_type": "code",
   "execution_count": 2,
   "id": "c9f83aaa",
   "metadata": {},
   "outputs": [
    {
     "name": "stdout",
     "output_type": "stream",
     "text": [
      "enter anything abcdefghijklmnopqrstuvwxyz\n"
     ]
    },
    {
     "data": {
      "text/plain": [
       "'a e i o u b c d f g h j k l m n p q r s t v w x y z'"
      ]
     },
     "execution_count": 2,
     "metadata": {},
     "output_type": "execute_result"
    }
   ],
   "source": [
    "str4= input(\"enter anything \")\n",
    "l1=[]\n",
    "l2=[]\n",
    "for a in str4:\n",
    "    if a==\"a\" or a==\"e\" or a==\"i\" or a==\"o\" or a==\"u\":\n",
    "        l1.append(a)\n",
    "    else:\n",
    "        l2.append(a)\n",
    "l1=l1+l2\n",
    "\" \".join(l1)"
   ]
  },
  {
   "cell_type": "markdown",
   "id": "e7a6e164",
   "metadata": {},
   "source": [
    "# 20.Create a dynamic calculator which asks for numbers and operator and return the answers\n",
    "Example\n",
    "Input:\n",
    "Type first number: 10\n",
    "Type any of this (+, -, , /, %, ):\n",
    "Kavitha sister\n",
    "Strange Coder\n",
    "Assignment-2\n",
    "Type second number: 19\n",
    "Output:\n",
    "Answer is 19"
   ]
  },
  {
   "cell_type": "code",
   "execution_count": 3,
   "id": "cc282383",
   "metadata": {},
   "outputs": [
    {
     "name": "stdout",
     "output_type": "stream",
     "text": [
      "type first number 25\n",
      "type second number34\n",
      "Type any of this (+, -, //, /, %, *,**): +\n",
      "Answer is  59\n"
     ]
    }
   ],
   "source": [
    "num1 = int(input(\"type first number \"))\n",
    "num2 = int(input(\"type second number\"))\n",
    "var = input(\"Type any of this (+, -, //, /, %, *,**): \")\n",
    "if var ==\"+\":\n",
    "    print(\"Answer is \",num1+num2)\n",
    "elif var ==\"-\":\n",
    "    print(\"Answer is \",num1-num2)\n",
    "elif var ==\"*\":\n",
    "    print(\"Answer is \",num1*num2)\n",
    "elif var ==\"/\":\n",
    "    print(\"Answer is \",num1/num2)\n",
    "elif var ==\"%\":\n",
    "    print(\"Answer is \",num1%num2)\n",
    "elif var ==\"//\":\n",
    "    print(\"Answer is \",num1//num2)\n",
    "elif var ==\"**\":\n",
    "    print(\"Answer is \",num1**num2)\n",
    "else:\n",
    "    print(\"you have entered wrong character\")"
   ]
  },
  {
   "cell_type": "code",
   "execution_count": null,
   "id": "2c01ed85",
   "metadata": {},
   "outputs": [],
   "source": []
  }
 ],
 "metadata": {
  "kernelspec": {
   "display_name": "Python 3 (ipykernel)",
   "language": "python",
   "name": "python3"
  },
  "language_info": {
   "codemirror_mode": {
    "name": "ipython",
    "version": 3
   },
   "file_extension": ".py",
   "mimetype": "text/x-python",
   "name": "python",
   "nbconvert_exporter": "python",
   "pygments_lexer": "ipython3",
   "version": "3.9.13"
  }
 },
 "nbformat": 4,
 "nbformat_minor": 5
}
